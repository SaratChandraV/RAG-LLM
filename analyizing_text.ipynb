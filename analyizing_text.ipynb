{
 "cells": [
  {
   "cell_type": "code",
   "execution_count": 1,
   "metadata": {},
   "outputs": [],
   "source": [
    "import fitz  # PyMuPDF\n",
    "import pandas as pd"
   ]
  },
  {
   "cell_type": "code",
   "execution_count": 2,
   "metadata": {},
   "outputs": [
    {
     "name": "stdout",
     "output_type": "stream",
     "text": [
      "   Page                                               Text\n",
      "0     1                                              ^'^\\n\n",
      "1     2                                                   \n",
      "2     3  175\\nChoice Recipes\\nMAINLY FURNISHED\\nBY MEMB...\n",
      "3     4  y^-k^\\nCopyrighted by\\nCHARLES H. KERR & COMPA...\n",
      "4     5  CONTENTS.\\nPAGE\\nBrown Bread\\n5\\nBreakfast Dis...\n"
     ]
    }
   ],
   "source": [
    "# Open the PDF file\n",
    "pdf_path = '175_choice_recipes_mainly_furnished_by_members_of_the_chicago_womens_club-1887.pdf'\n",
    "doc = fitz.open(pdf_path)\n",
    "\n",
    "# Initialize an empty list to store page text\n",
    "data = []\n",
    "\n",
    "# Extract text from each page\n",
    "for page_num in range(len(doc)):\n",
    "    page = doc.load_page(page_num)\n",
    "    text = page.get_text()\n",
    "    data.append({\"Page\": page_num + 1, \"Text\": text})\n",
    "\n",
    "# Convert the list to a DataFrame\n",
    "df = pd.DataFrame(data)\n",
    "\n",
    "# Display the DataFrame\n",
    "print(df.head())  # Show the first few rows to verify\n",
    "\n",
    "# Optionally, you might want to save this DataFrame to a CSV for further analysis or processing\n",
    "csv_path = 'extracted_text.csv'\n",
    "df.to_csv(csv_path, index=False)"
   ]
  },
  {
   "cell_type": "code",
   "execution_count": 3,
   "metadata": {},
   "outputs": [
    {
     "name": "stdout",
     "output_type": "stream",
     "text": [
      "175 CHOICE RECIPES.\n",
      "77\n",
      "and\n",
      "I teacup of yeast; have\n",
      "the mixture at blood-heat\n",
      "when the yeast is added.\n",
      "Put into a stone jar and\n",
      "let\n",
      "stand until morning, when\n",
      "it will be ready to bottle.\n",
      "Raspberry Vinegar.\n",
      "lo quarts red raspberries.\n",
      "2 quarts wine vinegar.\n",
      "11^ pounds sugar for every quart juice.\n",
      "Pul the berries in a stone jar, mash them and pour\n",
      "the vinegar over them,\n",
      "stir\n",
      "well and\n",
      "let stand\n",
      "for\n",
      "24\n",
      "hours, press out the juice and strain, and let stand over\n",
      "night,\n",
      "pour\n",
      "the\n",
      "juice\n",
      "off from\n",
      "the\n",
      "sediment and\n",
      "to\n",
      "every quart of juice add\n",
      "i i^ pounds sugar, boil up, let\n",
      "cool and bottle.\n",
      "\" I have formed a settled conviction\n",
      "that\n",
      "the world\n",
      "is fed too much.\n",
      "Pastries, cakes, hot bread, rich gra-\n",
      "vies,\n",
      "pickles, pepper sauces, salads, tea and coffee are\n",
      "discarded from my\n",
      "' bill\n",
      "of\n",
      "fare,' and I firmly believe\n",
      "that they will be from the recipes of the twentieth cent-\n",
      "ury.\n",
      "Entire wheat\n",
      "flour\n",
      "bread, vegetables,\n",
      "fruit, fish\n",
      "with a little meat, and milk as the chief drink, will dis-\n",
      "till\n",
      "in the\n",
      "alembic\n",
      "of\n",
      "the\n",
      "digestive organs\n",
      "into pure,\n",
      "rich,\n",
      "feverless\n",
      "blood,\n",
      "electric\n",
      "but\n",
      "steady nerves, and\n",
      "brains\n",
      "that can\n",
      "' think God's thoughts\n",
      "after Him\n",
      "'\n",
      "as\n",
      "they have never yet been thought.\n",
      "This\n",
      "is my recipe\n",
      ":\n",
      "'Plain living and high thinking^ and this is my warn-\n",
      "ing:\n",
      "With high\n",
      "living yoti\n",
      "will get exceedingly plain\n",
      "thinking.\n",
      "Yours for stomachic rights,\n",
      "''Frances\n",
      "E. Willard.\"\n",
      "\n"
     ]
    }
   ],
   "source": [
    "for i in df.iloc[78,1].split('\\n'):\n",
    "    print(i)"
   ]
  },
  {
   "cell_type": "code",
   "execution_count": 5,
   "metadata": {},
   "outputs": [],
   "source": [
    "df['char_count'] = df['Text'].str.len()"
   ]
  },
  {
   "cell_type": "code",
   "execution_count": 7,
   "metadata": {},
   "outputs": [
    {
     "data": {
      "text/plain": [
       "<Axes: >"
      ]
     },
     "execution_count": 7,
     "metadata": {},
     "output_type": "execute_result"
    },
    {
     "data": {
      "image/png": "[encoded data removed]",
      "text/plain": [
       "<Figure size 640x480 with 1 Axes>"
      ]
     },
     "metadata": {},
     "output_type": "display_data"
    }
   ],
   "source": [
    "df['char_count'].hist()"
   ]
  },
  {
   "cell_type": "code",
   "execution_count": 8,
   "metadata": {},
   "outputs": [
    {
     "data": {
      "text/plain": [
       "count      88.000000\n",
       "mean      998.693182\n",
       "std       375.134991\n",
       "min         0.000000\n",
       "25%       922.000000\n",
       "50%      1073.000000\n",
       "75%      1206.750000\n",
       "max      2083.000000\n",
       "Name: char_count, dtype: float64"
      ]
     },
     "execution_count": 8,
     "metadata": {},
     "output_type": "execute_result"
    }
   ],
   "source": [
    "df['char_count'].describe()"
   ]
  }
 ],
 "metadata": {
  "kernelspec": {
   "display_name": "Python 3",
   "language": "python",
   "name": "python3"
  },
  "language_info": {
   "codemirror_mode": {
    "name": "ipython",
    "version": 3
   },
   "file_extension": ".py",
   "mimetype": "text/x-python",
   "name": "python",
   "nbconvert_exporter": "python",
   "pygments_lexer": "ipython3",
   "version": "3.9.6"
  }
 },
 "nbformat": 4,
 "nbformat_minor": 2
}
